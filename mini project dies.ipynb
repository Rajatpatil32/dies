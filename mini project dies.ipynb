{
 "cells": [
  {
   "cell_type": "code",
   "execution_count": 1,
   "metadata": {},
   "outputs": [],
   "source": [
    "import random\n",
    "def dies():\n",
    "    dies = [1,2,3,4,5,6]\n",
    "    print(random.randint(1,len(dies)))\n",
    "    print('do u want to contiue...')\n",
    "    continue_check()\n",
    "    \n",
    "def continue_check():\n",
    "    result = input(\"Y/N?\")\n",
    "    if result == 'Y':\n",
    "        dies()\n",
    "    elif result == 'N':\n",
    "        exit()\n",
    "    else:\n",
    "        print(\"sry i am not able to understand!\")\n",
    "        continue_check()"
   ]
  },
  {
   "cell_type": "code",
   "execution_count": 2,
   "metadata": {},
   "outputs": [
    {
     "name": "stdout",
     "output_type": "stream",
     "text": [
      "4\n",
      "do u want to contiue...\n",
      "Y/N?N\n"
     ]
    }
   ],
   "source": [
    "dies()"
   ]
  }
 ],
 "metadata": {
  "kernelspec": {
   "display_name": "Python 3",
   "language": "python",
   "name": "python3"
  },
  "language_info": {
   "codemirror_mode": {
    "name": "ipython",
    "version": 3
   },
   "file_extension": ".py",
   "mimetype": "text/x-python",
   "name": "python",
   "nbconvert_exporter": "python",
   "pygments_lexer": "ipython3",
   "version": "3.8.3"
  }
 },
 "nbformat": 4,
 "nbformat_minor": 4
}
